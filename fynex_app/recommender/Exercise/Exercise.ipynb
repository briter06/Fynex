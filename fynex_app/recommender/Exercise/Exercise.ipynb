{
 "cells": [
  {
   "cell_type": "code",
   "execution_count": 1,
   "metadata": {},
   "outputs": [
    {
     "data": {
      "text/html": [
       "<div>\n",
       "<style scoped>\n",
       "    .dataframe tbody tr th:only-of-type {\n",
       "        vertical-align: middle;\n",
       "    }\n",
       "\n",
       "    .dataframe tbody tr th {\n",
       "        vertical-align: top;\n",
       "    }\n",
       "\n",
       "    .dataframe thead th {\n",
       "        text-align: right;\n",
       "    }\n",
       "</style>\n",
       "<table border=\"1\" class=\"dataframe\">\n",
       "  <thead>\n",
       "    <tr style=\"text-align: right;\">\n",
       "      <th></th>\n",
       "      <th>program</th>\n",
       "      <th>premiliminary</th>\n",
       "      <th>exercise</th>\n",
       "      <th>after</th>\n",
       "    </tr>\n",
       "    <tr>\n",
       "      <th>disease</th>\n",
       "      <th></th>\n",
       "      <th></th>\n",
       "      <th></th>\n",
       "      <th></th>\n",
       "    </tr>\n",
       "  </thead>\n",
       "  <tbody>\n",
       "    <tr>\n",
       "      <th>diabetes</th>\n",
       "      <td>4,3</td>\n",
       "      <td>:1,2/15-30</td>\n",
       "      <td>aerobic:5/30,inf</td>\n",
       "      <td>:2/30,inf</td>\n",
       "    </tr>\n",
       "  </tbody>\n",
       "</table>\n",
       "</div>"
      ],
      "text/plain": [
       "         program premiliminary          exercise      after\n",
       "disease                                                    \n",
       "diabetes     4,3    :1,2/15-30  aerobic:5/30,inf  :2/30,inf"
      ]
     },
     "execution_count": 1,
     "metadata": {},
     "output_type": "execute_result"
    }
   ],
   "source": [
    "import pandas as pd\n",
    "df_plans = pd.read_csv('plans.csv',delimiter=';',encoding='UTF8',index_col=0)\n",
    "df_plans"
   ]
  },
  {
   "cell_type": "code",
   "execution_count": 2,
   "metadata": {},
   "outputs": [
    {
     "data": {
      "text/html": [
       "<div>\n",
       "<style scoped>\n",
       "    .dataframe tbody tr th:only-of-type {\n",
       "        vertical-align: middle;\n",
       "    }\n",
       "\n",
       "    .dataframe tbody tr th {\n",
       "        vertical-align: top;\n",
       "    }\n",
       "\n",
       "    .dataframe thead th {\n",
       "        text-align: right;\n",
       "    }\n",
       "</style>\n",
       "<table border=\"1\" class=\"dataframe\">\n",
       "  <thead>\n",
       "    <tr style=\"text-align: right;\">\n",
       "      <th></th>\n",
       "      <th>type</th>\n",
       "      <th>sport</th>\n",
       "      <th>info</th>\n",
       "    </tr>\n",
       "  </thead>\n",
       "  <tbody>\n",
       "    <tr>\n",
       "      <th>0</th>\n",
       "      <td>aerobic</td>\n",
       "      <td>Cicla elíptica</td>\n",
       "      <td>Indoor</td>\n",
       "    </tr>\n",
       "    <tr>\n",
       "      <th>1</th>\n",
       "      <td>aerobic</td>\n",
       "      <td>Cicla estática</td>\n",
       "      <td>Indoor</td>\n",
       "    </tr>\n",
       "    <tr>\n",
       "      <th>2</th>\n",
       "      <td>aerobic</td>\n",
       "      <td>Caminadora</td>\n",
       "      <td>Indoor</td>\n",
       "    </tr>\n",
       "    <tr>\n",
       "      <th>3</th>\n",
       "      <td>aerobic</td>\n",
       "      <td>Caminar</td>\n",
       "      <td>Outdoor</td>\n",
       "    </tr>\n",
       "    <tr>\n",
       "      <th>4</th>\n",
       "      <td>aerobic</td>\n",
       "      <td>Cicla</td>\n",
       "      <td>Outdoor</td>\n",
       "    </tr>\n",
       "    <tr>\n",
       "      <th>5</th>\n",
       "      <td>aerobic</td>\n",
       "      <td>Correr</td>\n",
       "      <td>Outdoor</td>\n",
       "    </tr>\n",
       "    <tr>\n",
       "      <th>6</th>\n",
       "      <td>aerobic</td>\n",
       "      <td>Patinar</td>\n",
       "      <td>Outdoor</td>\n",
       "    </tr>\n",
       "    <tr>\n",
       "      <th>7</th>\n",
       "      <td>aerobic</td>\n",
       "      <td>Nadar</td>\n",
       "      <td>Indoor/Outdoor</td>\n",
       "    </tr>\n",
       "    <tr>\n",
       "      <th>8</th>\n",
       "      <td>aerobic</td>\n",
       "      <td>Kickboxing</td>\n",
       "      <td>Indoor/Outdoor</td>\n",
       "    </tr>\n",
       "    <tr>\n",
       "      <th>9</th>\n",
       "      <td>aerobic</td>\n",
       "      <td>Saltar cuerda</td>\n",
       "      <td>Indoor/Outdoor</td>\n",
       "    </tr>\n",
       "    <tr>\n",
       "      <th>10</th>\n",
       "      <td>aerobic</td>\n",
       "      <td>Baile aeróbico</td>\n",
       "      <td>Indoor/Outdoor</td>\n",
       "    </tr>\n",
       "    <tr>\n",
       "      <th>11</th>\n",
       "      <td>aerobic</td>\n",
       "      <td>Aeróbicos acuáticos</td>\n",
       "      <td>Indoor/Outdoor</td>\n",
       "    </tr>\n",
       "  </tbody>\n",
       "</table>\n",
       "</div>"
      ],
      "text/plain": [
       "       type                sport            info\n",
       "0   aerobic       Cicla elíptica          Indoor\n",
       "1   aerobic       Cicla estática          Indoor\n",
       "2   aerobic           Caminadora          Indoor\n",
       "3   aerobic              Caminar         Outdoor\n",
       "4   aerobic                Cicla         Outdoor\n",
       "5   aerobic               Correr         Outdoor\n",
       "6   aerobic              Patinar         Outdoor\n",
       "7   aerobic                Nadar  Indoor/Outdoor\n",
       "8   aerobic           Kickboxing  Indoor/Outdoor\n",
       "9   aerobic        Saltar cuerda  Indoor/Outdoor\n",
       "10  aerobic       Baile aeróbico  Indoor/Outdoor\n",
       "11  aerobic  Aeróbicos acuáticos  Indoor/Outdoor"
      ]
     },
     "execution_count": 2,
     "metadata": {},
     "output_type": "execute_result"
    }
   ],
   "source": [
    "df_sports = pd.read_csv('sports.csv',delimiter=';',encoding='UTF8')\n",
    "df_sports"
   ]
  },
  {
   "cell_type": "code",
   "execution_count": 3,
   "metadata": {},
   "outputs": [],
   "source": [
    "disease = 'diabetes'"
   ]
  },
  {
   "cell_type": "code",
   "execution_count": 4,
   "metadata": {},
   "outputs": [
    {
     "data": {
      "text/plain": [
       "program                       4,3\n",
       "premiliminary          :1,2/15-30\n",
       "exercise         aerobic:5/30,inf\n",
       "after                   :2/30,inf\n",
       "Name: diabetes, dtype: object"
      ]
     },
     "execution_count": 4,
     "metadata": {},
     "output_type": "execute_result"
    }
   ],
   "source": [
    "df_disease_plan = df_plans.loc[disease]\n",
    "df_disease_plan"
   ]
  },
  {
   "cell_type": "code",
   "execution_count": 5,
   "metadata": {},
   "outputs": [
    {
     "data": {
      "text/plain": [
       "'aerobic'"
      ]
     },
     "execution_count": 5,
     "metadata": {},
     "output_type": "execute_result"
    }
   ],
   "source": [
    "ex_type = df_disease_plan['exercise'].split(':')[0]\n",
    "ex_type"
   ]
  },
  {
   "cell_type": "code",
   "execution_count": 6,
   "metadata": {},
   "outputs": [
    {
     "data": {
      "text/html": [
       "<div>\n",
       "<style scoped>\n",
       "    .dataframe tbody tr th:only-of-type {\n",
       "        vertical-align: middle;\n",
       "    }\n",
       "\n",
       "    .dataframe tbody tr th {\n",
       "        vertical-align: top;\n",
       "    }\n",
       "\n",
       "    .dataframe thead th {\n",
       "        text-align: right;\n",
       "    }\n",
       "</style>\n",
       "<table border=\"1\" class=\"dataframe\">\n",
       "  <thead>\n",
       "    <tr style=\"text-align: right;\">\n",
       "      <th></th>\n",
       "      <th>type</th>\n",
       "      <th>sport</th>\n",
       "      <th>info</th>\n",
       "    </tr>\n",
       "  </thead>\n",
       "  <tbody>\n",
       "    <tr>\n",
       "      <th>0</th>\n",
       "      <td>aerobic</td>\n",
       "      <td>Cicla elíptica</td>\n",
       "      <td>Indoor</td>\n",
       "    </tr>\n",
       "    <tr>\n",
       "      <th>1</th>\n",
       "      <td>aerobic</td>\n",
       "      <td>Cicla estática</td>\n",
       "      <td>Indoor</td>\n",
       "    </tr>\n",
       "    <tr>\n",
       "      <th>2</th>\n",
       "      <td>aerobic</td>\n",
       "      <td>Caminadora</td>\n",
       "      <td>Indoor</td>\n",
       "    </tr>\n",
       "    <tr>\n",
       "      <th>3</th>\n",
       "      <td>aerobic</td>\n",
       "      <td>Caminar</td>\n",
       "      <td>Outdoor</td>\n",
       "    </tr>\n",
       "    <tr>\n",
       "      <th>4</th>\n",
       "      <td>aerobic</td>\n",
       "      <td>Cicla</td>\n",
       "      <td>Outdoor</td>\n",
       "    </tr>\n",
       "    <tr>\n",
       "      <th>5</th>\n",
       "      <td>aerobic</td>\n",
       "      <td>Correr</td>\n",
       "      <td>Outdoor</td>\n",
       "    </tr>\n",
       "    <tr>\n",
       "      <th>6</th>\n",
       "      <td>aerobic</td>\n",
       "      <td>Patinar</td>\n",
       "      <td>Outdoor</td>\n",
       "    </tr>\n",
       "    <tr>\n",
       "      <th>7</th>\n",
       "      <td>aerobic</td>\n",
       "      <td>Nadar</td>\n",
       "      <td>Indoor/Outdoor</td>\n",
       "    </tr>\n",
       "    <tr>\n",
       "      <th>8</th>\n",
       "      <td>aerobic</td>\n",
       "      <td>Kickboxing</td>\n",
       "      <td>Indoor/Outdoor</td>\n",
       "    </tr>\n",
       "    <tr>\n",
       "      <th>9</th>\n",
       "      <td>aerobic</td>\n",
       "      <td>Saltar cuerda</td>\n",
       "      <td>Indoor/Outdoor</td>\n",
       "    </tr>\n",
       "    <tr>\n",
       "      <th>10</th>\n",
       "      <td>aerobic</td>\n",
       "      <td>Baile aeróbico</td>\n",
       "      <td>Indoor/Outdoor</td>\n",
       "    </tr>\n",
       "    <tr>\n",
       "      <th>11</th>\n",
       "      <td>aerobic</td>\n",
       "      <td>Aeróbicos acuáticos</td>\n",
       "      <td>Indoor/Outdoor</td>\n",
       "    </tr>\n",
       "  </tbody>\n",
       "</table>\n",
       "</div>"
      ],
      "text/plain": [
       "       type                sport            info\n",
       "0   aerobic       Cicla elíptica          Indoor\n",
       "1   aerobic       Cicla estática          Indoor\n",
       "2   aerobic           Caminadora          Indoor\n",
       "3   aerobic              Caminar         Outdoor\n",
       "4   aerobic                Cicla         Outdoor\n",
       "5   aerobic               Correr         Outdoor\n",
       "6   aerobic              Patinar         Outdoor\n",
       "7   aerobic                Nadar  Indoor/Outdoor\n",
       "8   aerobic           Kickboxing  Indoor/Outdoor\n",
       "9   aerobic        Saltar cuerda  Indoor/Outdoor\n",
       "10  aerobic       Baile aeróbico  Indoor/Outdoor\n",
       "11  aerobic  Aeróbicos acuáticos  Indoor/Outdoor"
      ]
     },
     "execution_count": 6,
     "metadata": {},
     "output_type": "execute_result"
    }
   ],
   "source": [
    "df_disease_sports = df_sports[df_sports['type']==ex_type]\n",
    "df_disease_sports"
   ]
  },
  {
   "cell_type": "code",
   "execution_count": 7,
   "metadata": {},
   "outputs": [
    {
     "data": {
      "text/html": [
       "<div>\n",
       "<style scoped>\n",
       "    .dataframe tbody tr th:only-of-type {\n",
       "        vertical-align: middle;\n",
       "    }\n",
       "\n",
       "    .dataframe tbody tr th {\n",
       "        vertical-align: top;\n",
       "    }\n",
       "\n",
       "    .dataframe thead th {\n",
       "        text-align: right;\n",
       "    }\n",
       "</style>\n",
       "<table border=\"1\" class=\"dataframe\">\n",
       "  <thead>\n",
       "    <tr style=\"text-align: right;\">\n",
       "      <th></th>\n",
       "      <th>type</th>\n",
       "      <th>sport</th>\n",
       "      <th>info</th>\n",
       "    </tr>\n",
       "  </thead>\n",
       "  <tbody>\n",
       "    <tr>\n",
       "      <th>0</th>\n",
       "      <td>aerobic</td>\n",
       "      <td>Kickboxing</td>\n",
       "      <td>Indoor/Outdoor</td>\n",
       "    </tr>\n",
       "  </tbody>\n",
       "</table>\n",
       "</div>"
      ],
      "text/plain": [
       "      type       sport            info\n",
       "0  aerobic  Kickboxing  Indoor/Outdoor"
      ]
     },
     "execution_count": 7,
     "metadata": {},
     "output_type": "execute_result"
    }
   ],
   "source": [
    "import random\n",
    "res = pd.DataFrame([random.choice(df_disease_sports.values)],columns=df_disease_sports.columns)\n",
    "res"
   ]
  },
  {
   "cell_type": "code",
   "execution_count": null,
   "metadata": {},
   "outputs": [],
   "source": []
  }
 ],
 "metadata": {
  "kernelspec": {
   "display_name": "Python 3",
   "language": "python",
   "name": "python3"
  },
  "language_info": {
   "codemirror_mode": {
    "name": "ipython",
    "version": 3
   },
   "file_extension": ".py",
   "mimetype": "text/x-python",
   "name": "python",
   "nbconvert_exporter": "python",
   "pygments_lexer": "ipython3",
   "version": "3.8.3"
  }
 },
 "nbformat": 4,
 "nbformat_minor": 4
}
